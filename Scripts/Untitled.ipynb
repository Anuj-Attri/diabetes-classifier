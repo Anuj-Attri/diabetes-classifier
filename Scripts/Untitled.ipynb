{
 "cells": [
  {
   "cell_type": "code",
   "execution_count": 1,
   "metadata": {},
   "outputs": [],
   "source": [
    "import pickle\n",
    "import pandas as pd"
   ]
  },
  {
   "cell_type": "code",
   "execution_count": 2,
   "metadata": {},
   "outputs": [],
   "source": [
    "model_dict = pickle.load(open(\"D:/PSD/diabetes-classifier/Models/model_dict.pkl\", \"rb\"))\n",
    "model = model_dict[\"gs_logreg\"]"
   ]
  },
  {
   "cell_type": "code",
   "execution_count": 15,
   "metadata": {},
   "outputs": [],
   "source": [
    "def input_values():\n",
    "\n",
    "    stats = {\n",
    "        \"Pregnancies\": [0],\n",
    "        \"Glucose:\": [0],\n",
    "        \"BloodPressure\": [0],\n",
    "        \"SkinThickness\": [0],\n",
    "        \"Insulin\": [0],\n",
    "        \"BMI\": [0],\n",
    "        \"DiabetesPedigreeFunction\": [0],\n",
    "        \"Age\": [0]\n",
    "    }\n",
    "\n",
    "    for name, value in stats.items():\n",
    "        stats[name][0] = input(\"Enter the {}:\".format(name))\n",
    "\n",
    "    dataframe = pd.DataFrame.from_dict(stats, orient='columns')\n",
    "    return dataframe"
   ]
  },
  {
   "cell_type": "code",
   "execution_count": 16,
   "metadata": {},
   "outputs": [
    {
     "name": "stdout",
     "output_type": "stream",
     "text": [
      "Enter the Pregnancies:7\n",
      "Enter the Glucose::148\n",
      "Enter the BloodPressure:72\n",
      "Enter the SkinThickness:35\n",
      "Enter the Insulin:0\n",
      "Enter the BMI:33.5\n",
      "Enter the DiabetesPedigreeFunction:0.627\n",
      "Enter the Age:50\n",
      "The patient is Diabetic..\n"
     ]
    }
   ],
   "source": [
    "def output():\n",
    "    data = input_values()\n",
    "    pred = model.predict(data)\n",
    "\n",
    "    if pred == 0:\n",
    "        return \"not Diabetic.\"\n",
    "    elif pred == 1:\n",
    "        return \"Diabetic.\"\n",
    "\n",
    "print(f\"The patient is {output()}.\")"
   ]
  }
 ],
 "metadata": {
  "kernelspec": {
   "display_name": "Python 3",
   "language": "python",
   "name": "python3"
  },
  "language_info": {
   "codemirror_mode": {
    "name": "ipython",
    "version": 3
   },
   "file_extension": ".py",
   "mimetype": "text/x-python",
   "name": "python",
   "nbconvert_exporter": "python",
   "pygments_lexer": "ipython3",
   "version": "3.8.3"
  }
 },
 "nbformat": 4,
 "nbformat_minor": 4
}
